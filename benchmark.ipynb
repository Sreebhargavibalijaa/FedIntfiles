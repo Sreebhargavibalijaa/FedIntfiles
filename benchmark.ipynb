{
  "nbformat": 4,
  "nbformat_minor": 0,
  "metadata": {
    "colab": {
      "provenance": []
    },
    "kernelspec": {
      "name": "python3",
      "display_name": "Python 3"
    },
    "language_info": {
      "name": "python"
    }
  },
  "cells": [
    {
      "cell_type": "code",
      "execution_count": null,
      "metadata": {
        "colab": {
          "base_uri": "https://localhost:8080/",
          "height": 885
        },
        "id": "EloYxUGkOegf",
        "outputId": "eade6377-d96b-4bce-f74a-28363f284e54"
      },
      "outputs": [
        {
          "output_type": "stream",
          "name": "stderr",
          "text": [
            "<ipython-input-13-bfb6c4c731f9>:97: UserWarning: To copy construct from a tensor, it is recommended to use sourceTensor.clone().detach() or sourceTensor.clone().detach().requires_grad_(True), rather than torch.tensor(sourceTensor).\n",
            "  testimages = torch.tensor(testimages, dtype=torch.float32)\n",
            "<ipython-input-13-bfb6c4c731f9>:224: UserWarning: To copy construct from a tensor, it is recommended to use sourceTensor.clone().detach() or sourceTensor.clone().detach().requires_grad_(True), rather than torch.tensor(sourceTensor).\n",
            "  y_test = torch.tensor(y_test_tensor, dtype=torch.float32)\n",
            "<ipython-input-13-bfb6c4c731f9>:97: UserWarning: To copy construct from a tensor, it is recommended to use sourceTensor.clone().detach() or sourceTensor.clone().detach().requires_grad_(True), rather than torch.tensor(sourceTensor).\n",
            "  testimages = torch.tensor(testimages, dtype=torch.float32)\n",
            "<ipython-input-13-bfb6c4c731f9>:224: UserWarning: To copy construct from a tensor, it is recommended to use sourceTensor.clone().detach() or sourceTensor.clone().detach().requires_grad_(True), rather than torch.tensor(sourceTensor).\n",
            "  y_test = torch.tensor(y_test_tensor, dtype=torch.float32)\n",
            "<ipython-input-13-bfb6c4c731f9>:97: UserWarning: To copy construct from a tensor, it is recommended to use sourceTensor.clone().detach() or sourceTensor.clone().detach().requires_grad_(True), rather than torch.tensor(sourceTensor).\n",
            "  testimages = torch.tensor(testimages, dtype=torch.float32)\n",
            "<ipython-input-13-bfb6c4c731f9>:224: UserWarning: To copy construct from a tensor, it is recommended to use sourceTensor.clone().detach() or sourceTensor.clone().detach().requires_grad_(True), rather than torch.tensor(sourceTensor).\n",
            "  y_test = torch.tensor(y_test_tensor, dtype=torch.float32)\n",
            "<ipython-input-13-bfb6c4c731f9>:97: UserWarning: To copy construct from a tensor, it is recommended to use sourceTensor.clone().detach() or sourceTensor.clone().detach().requires_grad_(True), rather than torch.tensor(sourceTensor).\n",
            "  testimages = torch.tensor(testimages, dtype=torch.float32)\n",
            "<ipython-input-13-bfb6c4c731f9>:224: UserWarning: To copy construct from a tensor, it is recommended to use sourceTensor.clone().detach() or sourceTensor.clone().detach().requires_grad_(True), rather than torch.tensor(sourceTensor).\n",
            "  y_test = torch.tensor(y_test_tensor, dtype=torch.float32)\n",
            "<ipython-input-13-bfb6c4c731f9>:97: UserWarning: To copy construct from a tensor, it is recommended to use sourceTensor.clone().detach() or sourceTensor.clone().detach().requires_grad_(True), rather than torch.tensor(sourceTensor).\n",
            "  testimages = torch.tensor(testimages, dtype=torch.float32)\n",
            "<ipython-input-13-bfb6c4c731f9>:224: UserWarning: To copy construct from a tensor, it is recommended to use sourceTensor.clone().detach() or sourceTensor.clone().detach().requires_grad_(True), rather than torch.tensor(sourceTensor).\n",
            "  y_test = torch.tensor(y_test_tensor, dtype=torch.float32)\n",
            "<ipython-input-13-bfb6c4c731f9>:97: UserWarning: To copy construct from a tensor, it is recommended to use sourceTensor.clone().detach() or sourceTensor.clone().detach().requires_grad_(True), rather than torch.tensor(sourceTensor).\n",
            "  testimages = torch.tensor(testimages, dtype=torch.float32)\n",
            "<ipython-input-13-bfb6c4c731f9>:224: UserWarning: To copy construct from a tensor, it is recommended to use sourceTensor.clone().detach() or sourceTensor.clone().detach().requires_grad_(True), rather than torch.tensor(sourceTensor).\n",
            "  y_test = torch.tensor(y_test_tensor, dtype=torch.float32)\n",
            "<ipython-input-13-bfb6c4c731f9>:97: UserWarning: To copy construct from a tensor, it is recommended to use sourceTensor.clone().detach() or sourceTensor.clone().detach().requires_grad_(True), rather than torch.tensor(sourceTensor).\n",
            "  testimages = torch.tensor(testimages, dtype=torch.float32)\n",
            "<ipython-input-13-bfb6c4c731f9>:224: UserWarning: To copy construct from a tensor, it is recommended to use sourceTensor.clone().detach() or sourceTensor.clone().detach().requires_grad_(True), rather than torch.tensor(sourceTensor).\n",
            "  y_test = torch.tensor(y_test_tensor, dtype=torch.float32)\n"
          ]
        },
        {
          "output_type": "error",
          "ename": "KeyboardInterrupt",
          "evalue": "",
          "traceback": [
            "\u001b[0;31m---------------------------------------------------------------------------\u001b[0m",
            "\u001b[0;31mKeyboardInterrupt\u001b[0m                         Traceback (most recent call last)",
            "\u001b[0;32m<ipython-input-13-bfb6c4c731f9>\u001b[0m in \u001b[0;36m<cell line: 191>\u001b[0;34m()\u001b[0m\n\u001b[1;32m    238\u001b[0m             \u001b[0mprint\u001b[0m\u001b[0;34m(\u001b[0m\u001b[0;34mf'Accuracy: {accuracy * 100:.2f}%'\u001b[0m\u001b[0;34m)\u001b[0m\u001b[0;34m\u001b[0m\u001b[0;34m\u001b[0m\u001b[0m\n\u001b[1;32m    239\u001b[0m \u001b[0;34m\u001b[0m\u001b[0m\n\u001b[0;32m--> 240\u001b[0;31m     \u001b[0mtrained_model\u001b[0m \u001b[0;34m=\u001b[0m \u001b[0mtrain\u001b[0m\u001b[0;34m(\u001b[0m\u001b[0mnam_model\u001b[0m\u001b[0;34m,\u001b[0m \u001b[0mX_train_tensor\u001b[0m\u001b[0;34m,\u001b[0m \u001b[0my_train_tensor\u001b[0m\u001b[0;34m,\u001b[0m \u001b[0mconfig\u001b[0m\u001b[0;34m)\u001b[0m\u001b[0;34m\u001b[0m\u001b[0;34m\u001b[0m\u001b[0m\n\u001b[0m\u001b[1;32m    241\u001b[0m \u001b[0;34m\u001b[0m\u001b[0m\n\u001b[1;32m    242\u001b[0m     \u001b[0mevaluate\u001b[0m\u001b[0;34m(\u001b[0m\u001b[0mtrained_model\u001b[0m\u001b[0;34m,\u001b[0m \u001b[0mX_test_tensor\u001b[0m\u001b[0;34m,\u001b[0m \u001b[0my_test_tensor\u001b[0m\u001b[0;34m)\u001b[0m\u001b[0;34m\u001b[0m\u001b[0;34m\u001b[0m\u001b[0m\n",
            "\u001b[0;32m<ipython-input-13-bfb6c4c731f9>\u001b[0m in \u001b[0;36mtrain\u001b[0;34m(model, X_train, y_train, config)\u001b[0m\n\u001b[1;32m    220\u001b[0m         \u001b[0mmodel\u001b[0m\u001b[0;34m.\u001b[0m\u001b[0mtrain\u001b[0m\u001b[0;34m(\u001b[0m\u001b[0;34m)\u001b[0m\u001b[0;34m\u001b[0m\u001b[0;34m\u001b[0m\u001b[0m\n\u001b[1;32m    221\u001b[0m         \u001b[0;32mfor\u001b[0m \u001b[0mepoch\u001b[0m \u001b[0;32min\u001b[0m \u001b[0mrange\u001b[0m\u001b[0;34m(\u001b[0m\u001b[0mconfig\u001b[0m\u001b[0;34m.\u001b[0m\u001b[0mnum_epochs\u001b[0m\u001b[0;34m)\u001b[0m\u001b[0;34m:\u001b[0m\u001b[0;34m\u001b[0m\u001b[0;34m\u001b[0m\u001b[0m\n\u001b[0;32m--> 222\u001b[0;31m             \u001b[0moutputs\u001b[0m \u001b[0;34m=\u001b[0m \u001b[0mfed_model\u001b[0m\u001b[0;34m(\u001b[0m\u001b[0mX_test_tensor\u001b[0m\u001b[0;34m)\u001b[0m\u001b[0;34m\u001b[0m\u001b[0;34m\u001b[0m\u001b[0m\n\u001b[0m\u001b[1;32m    223\u001b[0m             \u001b[0moptimizer\u001b[0m\u001b[0;34m.\u001b[0m\u001b[0mzero_grad\u001b[0m\u001b[0;34m(\u001b[0m\u001b[0;34m)\u001b[0m\u001b[0;34m\u001b[0m\u001b[0;34m\u001b[0m\u001b[0m\n\u001b[1;32m    224\u001b[0m             \u001b[0my_test\u001b[0m \u001b[0;34m=\u001b[0m \u001b[0mtorch\u001b[0m\u001b[0;34m.\u001b[0m\u001b[0mtensor\u001b[0m\u001b[0;34m(\u001b[0m\u001b[0my_test_tensor\u001b[0m\u001b[0;34m,\u001b[0m \u001b[0mdtype\u001b[0m\u001b[0;34m=\u001b[0m\u001b[0mtorch\u001b[0m\u001b[0;34m.\u001b[0m\u001b[0mfloat32\u001b[0m\u001b[0;34m)\u001b[0m\u001b[0;34m\u001b[0m\u001b[0;34m\u001b[0m\u001b[0m\n",
            "\u001b[0;32m<ipython-input-13-bfb6c4c731f9>\u001b[0m in \u001b[0;36mfed_model\u001b[0;34m(testimages)\u001b[0m\n\u001b[1;32m     80\u001b[0m                 \u001b[0moutputs\u001b[0m \u001b[0;34m=\u001b[0m \u001b[0mmodel\u001b[0m\u001b[0;34m(\u001b[0m\u001b[0minputs\u001b[0m\u001b[0;34m)\u001b[0m\u001b[0;34m\u001b[0m\u001b[0;34m\u001b[0m\u001b[0m\n\u001b[1;32m     81\u001b[0m                 \u001b[0mloss\u001b[0m \u001b[0;34m=\u001b[0m \u001b[0mcriterion\u001b[0m\u001b[0;34m(\u001b[0m\u001b[0moutputs\u001b[0m\u001b[0;34m,\u001b[0m \u001b[0mlabels\u001b[0m\u001b[0;34m)\u001b[0m\u001b[0;34m\u001b[0m\u001b[0;34m\u001b[0m\u001b[0m\n\u001b[0;32m---> 82\u001b[0;31m                 \u001b[0mloss\u001b[0m\u001b[0;34m.\u001b[0m\u001b[0mbackward\u001b[0m\u001b[0;34m(\u001b[0m\u001b[0;34m)\u001b[0m\u001b[0;34m\u001b[0m\u001b[0;34m\u001b[0m\u001b[0m\n\u001b[0m\u001b[1;32m     83\u001b[0m                 \u001b[0moptimizer\u001b[0m\u001b[0;34m.\u001b[0m\u001b[0mstep\u001b[0m\u001b[0;34m(\u001b[0m\u001b[0;34m)\u001b[0m\u001b[0;34m\u001b[0m\u001b[0;34m\u001b[0m\u001b[0m\n\u001b[1;32m     84\u001b[0m                 \u001b[0mrunning_loss\u001b[0m \u001b[0;34m+=\u001b[0m \u001b[0mloss\u001b[0m\u001b[0;34m.\u001b[0m\u001b[0mitem\u001b[0m\u001b[0;34m(\u001b[0m\u001b[0;34m)\u001b[0m\u001b[0;34m\u001b[0m\u001b[0;34m\u001b[0m\u001b[0m\n",
            "\u001b[0;32m/usr/local/lib/python3.10/dist-packages/torch/_tensor.py\u001b[0m in \u001b[0;36mbackward\u001b[0;34m(self, gradient, retain_graph, create_graph, inputs)\u001b[0m\n\u001b[1;32m    519\u001b[0m                 \u001b[0minputs\u001b[0m\u001b[0;34m=\u001b[0m\u001b[0minputs\u001b[0m\u001b[0;34m,\u001b[0m\u001b[0;34m\u001b[0m\u001b[0;34m\u001b[0m\u001b[0m\n\u001b[1;32m    520\u001b[0m             )\n\u001b[0;32m--> 521\u001b[0;31m         torch.autograd.backward(\n\u001b[0m\u001b[1;32m    522\u001b[0m             \u001b[0mself\u001b[0m\u001b[0;34m,\u001b[0m \u001b[0mgradient\u001b[0m\u001b[0;34m,\u001b[0m \u001b[0mretain_graph\u001b[0m\u001b[0;34m,\u001b[0m \u001b[0mcreate_graph\u001b[0m\u001b[0;34m,\u001b[0m \u001b[0minputs\u001b[0m\u001b[0;34m=\u001b[0m\u001b[0minputs\u001b[0m\u001b[0;34m\u001b[0m\u001b[0;34m\u001b[0m\u001b[0m\n\u001b[1;32m    523\u001b[0m         )\n",
            "\u001b[0;32m/usr/local/lib/python3.10/dist-packages/torch/autograd/__init__.py\u001b[0m in \u001b[0;36mbackward\u001b[0;34m(tensors, grad_tensors, retain_graph, create_graph, grad_variables, inputs)\u001b[0m\n\u001b[1;32m    181\u001b[0m \u001b[0;34m\u001b[0m\u001b[0m\n\u001b[1;32m    182\u001b[0m \u001b[0;34m\u001b[0m\u001b[0m\n\u001b[0;32m--> 183\u001b[0;31m def backward(\n\u001b[0m\u001b[1;32m    184\u001b[0m     \u001b[0mtensors\u001b[0m\u001b[0;34m:\u001b[0m \u001b[0m_TensorOrTensors\u001b[0m\u001b[0;34m,\u001b[0m\u001b[0;34m\u001b[0m\u001b[0;34m\u001b[0m\u001b[0m\n\u001b[1;32m    185\u001b[0m     \u001b[0mgrad_tensors\u001b[0m\u001b[0;34m:\u001b[0m \u001b[0mOptional\u001b[0m\u001b[0;34m[\u001b[0m\u001b[0m_TensorOrTensors\u001b[0m\u001b[0;34m]\u001b[0m \u001b[0;34m=\u001b[0m \u001b[0;32mNone\u001b[0m\u001b[0;34m,\u001b[0m\u001b[0;34m\u001b[0m\u001b[0;34m\u001b[0m\u001b[0m\n",
            "\u001b[0;31mKeyboardInterrupt\u001b[0m: "
          ]
        }
      ],
      "source": [
        "\n",
        "import torch\n",
        "import torch.nn as nn\n",
        "import torch.optim as optim\n",
        "from torch.utils.data import DataLoader, Subset, TensorDataset\n",
        "import numpy as np\n",
        "from sklearn import datasets\n",
        "from sklearn.preprocessing import StandardScaler\n",
        "from sklearn.model_selection import train_test_split\n",
        "from typing import Sequence, Tuple\n",
        "import pandas as pd\n",
        "from sklearn.datasets import fetch_openml\n",
        "from collections import OrderedDict, defaultdict\n",
        "import torch.nn.functional as F\n",
        "model_equations = []\n",
        "\n",
        "def fed_model(testimages):\n",
        "    wine = fetch_openml(name='wine-quality-red', version=1, as_frame=True, parser='liac-arff')\n",
        "    X = wine.data\n",
        "    y = wine.target\n",
        "    y = wine.target.astype(int)\n",
        "    def adjust_target(value):\n",
        "        if value == 3:\n",
        "            return 0\n",
        "        elif value == 9:\n",
        "            return 6\n",
        "        else:\n",
        "            return value - 3\n",
        "    y = y.apply(adjust_target)\n",
        "    scaler = StandardScaler()\n",
        "    X = scaler.fit_transform(X)\n",
        "    X_train, X_test, y_train, y_test = train_test_split(X, y, test_size=0.2, random_state=42)\n",
        "    X_train_tensor = torch.tensor(X_train, dtype=torch.float32)\n",
        "    y_train = y_train.astype(int)\n",
        "    y_train_np = y_train.to_numpy().astype(int)\n",
        "    y_train_tensor = torch.tensor(y_train_np, dtype=torch.long)\n",
        "    X_test_tensor = torch.tensor(X_test, dtype=torch.float32)\n",
        "    y_test = y_test.astype(int)\n",
        "    y_test_np = y_test.to_numpy()\n",
        "    y_test_tensor = torch.tensor(y_test_np, dtype=torch.long)\n",
        "    train_dataset = TensorDataset(X_train_tensor, y_train_tensor)\n",
        "    test_dataset = TensorDataset(X_test_tensor, y_test_tensor)\n",
        "    n_clients = 3\n",
        "\n",
        "    indices = np.arange(len(train_dataset))\n",
        "    np.random.shuffle(indices)\n",
        "    split_indices = np.array_split(indices, n_clients)\n",
        "\n",
        "    client_loaders = []\n",
        "    batch_size = 16\n",
        "    for client_indices in split_indices:\n",
        "        client_subset = Subset(train_dataset, client_indices)\n",
        "        client_loader = DataLoader(client_subset, batch_size=batch_size, shuffle=True)\n",
        "        client_loaders.append(client_loader)\n",
        "\n",
        "    class SimpleNN(nn.Module):\n",
        "        def __init__(self):\n",
        "            super(SimpleNN, self).__init__()\n",
        "            self.fc1 = nn.Linear(11, 50)\n",
        "            self.fc2 = nn.Linear(50, 20)\n",
        "            self.fc3 = nn.Linear(20, 6)\n",
        "            self.relu = nn.ReLU()\n",
        "\n",
        "        def forward(self, x):\n",
        "            x = self.relu(self.fc1(x))\n",
        "            x = self.relu(self.fc2(x))\n",
        "            x = self.fc3(x)\n",
        "            return x\n",
        "\n",
        "    client_models = []\n",
        "    epochs = 20\n",
        "    criterion = nn.CrossEntropyLoss()\n",
        "\n",
        "    for i, loader in enumerate(client_loaders):\n",
        "        model = SimpleNN()\n",
        "        optimizer = optim.SGD(model.parameters(), lr=0.01, momentum=0.9)\n",
        "        for epoch in range(epochs):\n",
        "            running_loss = 0.0\n",
        "            for inputs, labels in loader:\n",
        "                optimizer.zero_grad()\n",
        "                outputs = model(inputs)\n",
        "                loss = criterion(outputs, labels)\n",
        "                loss.backward()\n",
        "                optimizer.step()\n",
        "                running_loss += loss.item()\n",
        "        torch.save(model.state_dict(), f'client_{i+1}_model.pth')\n",
        "        client_models.append(model.state_dict())\n",
        "        sums = defaultdict(int)\n",
        "        count = len(client_models)\n",
        "        for od in client_models:\n",
        "            for key, value in od.items():\n",
        "                sums[key] += value\n",
        "\n",
        "        averages = {key: value / count for key, value in sums.items()}\n",
        "        average_ordereddict = OrderedDict(averages)\n",
        "\n",
        "        model.load_state_dict(average_ordereddict)\n",
        "        testimages = torch.tensor(testimages, dtype=torch.float32)\n",
        "        y_test = model(testimages)\n",
        "        return y_test\n",
        "class Config:\n",
        "    def __init__(self, dropout=0.5, learning_rate=0.001, num_epochs=50, batch_size=32):\n",
        "        self.dropout = dropout\n",
        "        self.learning_rate = learning_rate\n",
        "        self.num_epochs = num_epochs\n",
        "        self.batch_size = batch_size\n",
        "\n",
        "class Model(nn.Module):\n",
        "    def __init__(self, config, name):\n",
        "        super(Model, self).__init__()\n",
        "        self.config = config\n",
        "        self.name = name\n",
        "class FeatureNN(nn.Module):\n",
        "    def __init__(self, config, name, input_shape, num_units, feature_num):\n",
        "        super(FeatureNN, self).__init__()\n",
        "        self.config = config\n",
        "        self.name = name\n",
        "        self.input_shape = input_shape\n",
        "        self.num_units = num_units\n",
        "        self.feature_num = feature_num\n",
        "        self.fc = nn.Linear(input_shape, num_units)\n",
        "\n",
        "    def forward(self, x):\n",
        "        x = self.fc(x)\n",
        "        x = F.relu(x)\n",
        "        return x\n",
        "\n",
        "class NAM(Model):\n",
        "    def __init__(self, config, name, *, num_inputs: int, num_units: int) -> None:\n",
        "        super(NAM, self).__init__(config, name)\n",
        "        self._num_inputs = num_inputs\n",
        "        self.dropout = nn.Dropout(p=self.config.dropout)\n",
        "\n",
        "        if isinstance(num_units, list):\n",
        "            assert len(num_units) == num_inputs\n",
        "            self._num_units = num_units\n",
        "        elif isinstance(num_units, int):\n",
        "            self._num_units = [num_units for _ in range(self._num_inputs)]\n",
        "\n",
        "        self.feature_nns = nn.ModuleList([\n",
        "            FeatureNN(config=config, name=f'FeatureNN_{i}', input_shape=1, num_units=self._num_units[i], feature_num=i)\n",
        "            for i in range(num_inputs)\n",
        "        ])\n",
        "\n",
        "        self.output_layer = nn.Linear(sum(self._num_units), 3)\n",
        "        self._bias = torch.nn.Parameter(data=torch.zeros(1))\n",
        "\n",
        "    def calc_outputs(self, inputs: torch.Tensor) -> Sequence[torch.Tensor]:\n",
        "        return [self.feature_nns[i](inputs[:, i:i+1]) for i in range(self._num_inputs)]\n",
        "\n",
        "    def forward(self, inputs: torch.Tensor) -> Tuple[torch.Tensor, torch.Tensor]:\n",
        "        individual_outputs = self.calc_outputs(inputs)\n",
        "        conc_out = torch.cat(individual_outputs, dim=-1)\n",
        "        dropout_out = self.dropout(conc_out)\n",
        "        out = self.output_layer(dropout_out)\n",
        "        return out, dropout_out\n",
        "\n",
        "    def print_model_equation(self, feature_names):\n",
        "        equation_terms = []\n",
        "        feature_contributions = {}\n",
        "        print(\"feature_names\")\n",
        "        print(feature_names)\n",
        "        for i, fnn in enumerate(self.feature_nns):\n",
        "            coefficients = fnn.fc.weight.data.flatten().tolist()\n",
        "            intercepts = fnn.fc.bias.data.tolist()\n",
        "            term = \" + \".join([f\"({coeff:.3f} * x_{feature_names[i]} + {intercept:.3f})\" for coeff, intercept in zip(coefficients, intercepts)])\n",
        "            equation_terms.append(term)\n",
        "            feature_contributions[feature_names[i]] = sum(abs(c) for c in coefficients)\n",
        "        equation = \" + \".join(equation_terms) + f\" + bias ({self._bias.item():.3f})\"\n",
        "        print(f\"Model Equation: y = {equation}\")\n",
        "        model_equations.append(equation)\n",
        "        interpretability = sorted(feature_contributions.items(), key=lambda x: x[1], reverse=True)\n",
        "        print(\"\\nFeature Contributions:\")\n",
        "        for feature, contribution in interpretability:\n",
        "            print(f\"{feature}: {contribution:.3f}\")\n",
        "\n",
        "        return interpretability[0][0],interpretability[-1][0]   # Return the feature with the highest contribution\n",
        "\n",
        "n_clients = 3\n",
        "data = fetch_openml(name='wine-quality-red', version=1, as_frame=True, parser='liac-arff')\n",
        "df = pd.DataFrame(data.data, columns=data.feature_names)\n",
        "df['target'] = data.target\n",
        "df = df.sample(frac=1, random_state=42).reset_index(drop=True)\n",
        "client_data = [df.iloc[i * len(df) // n_clients: (i + 1) * len(df) // n_clients] for i in range(n_clients)]\n",
        "clients_features = [client.drop(columns=['target']) for client in client_data]\n",
        "clients_targets = [client['target'] for client in client_data]\n",
        "clients_targets = [target.astype(int) for target in clients_targets]\n",
        "clients_features = [client.drop(columns=['target']) for client in client_data]\n",
        "\n",
        "clients_features1 = {}\n",
        "clients_features2 = {}\n",
        "for i in range(n_clients):\n",
        "    feature_columns = ['fixed_acidity', 'volatile_acidity', 'citric_acid', 'residual_sugar', 'chlorides', 'free_sulfur_dioxide', 'total_sulfur_dioxide', 'density', 'pH', 'sulphates', 'alcohol']\n",
        "\n",
        "    df = clients_features[i].head()\n",
        "\n",
        "    def adjust_target(value):\n",
        "        return value - 3\n",
        "\n",
        "    target = clients_targets[i].head()\n",
        "    X = df[feature_columns].values\n",
        "    y = target\n",
        "    y = target.apply(adjust_target)\n",
        "    X_train, X_test, y_train, y_test = train_test_split(X, y, test_size=0.3, random_state=42)\n",
        "    X_train_tensor = torch.tensor(X_train, dtype=torch.float32)\n",
        "    y_train = y_train.astype(int)\n",
        "    y_train_np = y_train.to_numpy().astype(int)\n",
        "    y_train_tensor = torch.tensor(y_train_np, dtype=torch.long)\n",
        "\n",
        "    X_test_tensor = torch.tensor(X_test, dtype=torch.float32)\n",
        "    y_test = y_test.astype(int)\n",
        "    y_test_np = y_test.to_numpy()\n",
        "    y_test_tensor = torch.tensor(y_test_np, dtype=torch.long)\n",
        "    config = Config(dropout=0.5, learning_rate=0.001, num_epochs=50, batch_size=32)\n",
        "    num_inputs = len(feature_columns)  # Number of features\n",
        "    num_units = 10  # Number of units in the hidden layer\n",
        "    nam_model = NAM(config=config, name='NAM_Model', num_inputs=num_inputs, num_units=num_units)\n",
        "    def train(model, X_train, y_train, config):\n",
        "        criterion = nn.CrossEntropyLoss()\n",
        "        optimizer = torch.optim.Adam(model.parameters(), lr=config.learning_rate)\n",
        "        model.train()\n",
        "        for epoch in range(config.num_epochs):\n",
        "            outputs = fed_model(X_test_tensor)\n",
        "            optimizer.zero_grad()\n",
        "            y_test = torch.tensor(y_test_tensor, dtype=torch.float32)\n",
        "            loss = criterion(outputs, y_test_tensor)\n",
        "            loss.backward()\n",
        "            optimizer.step()\n",
        "            if (epoch + 1) % 10 == 0:\n",
        "                print(f'Epoch [{epoch + 1}/{config.num_epochs}], Loss: {loss.item():.4f}')\n",
        "        return model\n",
        "\n",
        "    def evaluate(model, X_test, y_test):\n",
        "        model.eval()\n",
        "        with torch.no_grad():\n",
        "            outputs, _ = model(X_test_tensor)\n",
        "            _, predicted = torch.max(outputs, 1)\n",
        "            accuracy = (predicted == y_test).sum().item() / y_test.size(0)\n",
        "            print(f'Accuracy: {accuracy * 100:.2f}%')\n",
        "\n",
        "    trained_model = train(nam_model, X_train_tensor, y_train_tensor, config)\n",
        "\n",
        "    evaluate(trained_model, X_test_tensor, y_test_tensor)\n",
        "\n",
        "    # Print the model equation and get the most contributing feature\n",
        "    a,b = trained_model.print_model_equation(feature_columns)\n",
        "    most_contributing_feature = a\n",
        "    clients_features1[i] = most_contributing_feature\n",
        "    least_contributing_feature = b\n",
        "    clients_features2[i] = least_contributing_feature\n",
        "    print(f\"\\nMost contributing feature for client's output {i}: {most_contributing_feature}\")\n",
        "\n",
        "# pip install openai==0.28\n",
        "\n",
        "!pip install openai --upgrade\n"
      ]
    },
    {
      "cell_type": "code",
      "source": [
        "pip install openai==0.28\n"
      ],
      "metadata": {
        "colab": {
          "base_uri": "https://localhost:8080/",
          "height": 564
        },
        "id": "wl0iSP5GPjeP",
        "outputId": "c1875bd3-9dc2-4c57-d59a-a436b6e112ba"
      },
      "execution_count": null,
      "outputs": [
        {
          "output_type": "stream",
          "name": "stdout",
          "text": [
            "Collecting openai==0.28\n",
            "  Downloading openai-0.28.0-py3-none-any.whl.metadata (13 kB)\n",
            "Requirement already satisfied: requests>=2.20 in /usr/local/lib/python3.10/dist-packages (from openai==0.28) (2.32.3)\n",
            "Requirement already satisfied: tqdm in /usr/local/lib/python3.10/dist-packages (from openai==0.28) (4.66.5)\n",
            "Requirement already satisfied: aiohttp in /usr/local/lib/python3.10/dist-packages (from openai==0.28) (3.10.3)\n",
            "Requirement already satisfied: charset-normalizer<4,>=2 in /usr/local/lib/python3.10/dist-packages (from requests>=2.20->openai==0.28) (3.3.2)\n",
            "Requirement already satisfied: idna<4,>=2.5 in /usr/local/lib/python3.10/dist-packages (from requests>=2.20->openai==0.28) (3.7)\n",
            "Requirement already satisfied: urllib3<3,>=1.21.1 in /usr/local/lib/python3.10/dist-packages (from requests>=2.20->openai==0.28) (2.0.7)\n",
            "Requirement already satisfied: certifi>=2017.4.17 in /usr/local/lib/python3.10/dist-packages (from requests>=2.20->openai==0.28) (2024.7.4)\n",
            "Requirement already satisfied: aiohappyeyeballs>=2.3.0 in /usr/local/lib/python3.10/dist-packages (from aiohttp->openai==0.28) (2.3.5)\n",
            "Requirement already satisfied: aiosignal>=1.1.2 in /usr/local/lib/python3.10/dist-packages (from aiohttp->openai==0.28) (1.3.1)\n",
            "Requirement already satisfied: attrs>=17.3.0 in /usr/local/lib/python3.10/dist-packages (from aiohttp->openai==0.28) (24.2.0)\n",
            "Requirement already satisfied: frozenlist>=1.1.1 in /usr/local/lib/python3.10/dist-packages (from aiohttp->openai==0.28) (1.4.1)\n",
            "Requirement already satisfied: multidict<7.0,>=4.5 in /usr/local/lib/python3.10/dist-packages (from aiohttp->openai==0.28) (6.0.5)\n",
            "Requirement already satisfied: yarl<2.0,>=1.0 in /usr/local/lib/python3.10/dist-packages (from aiohttp->openai==0.28) (1.9.4)\n",
            "Requirement already satisfied: async-timeout<5.0,>=4.0 in /usr/local/lib/python3.10/dist-packages (from aiohttp->openai==0.28) (4.0.3)\n",
            "Downloading openai-0.28.0-py3-none-any.whl (76 kB)\n",
            "\u001b[2K   \u001b[90m━━━━━━━━━━━━━━━━━━━━━━━━━━━━━━━━━━━━━━━━\u001b[0m \u001b[32m76.5/76.5 kB\u001b[0m \u001b[31m3.5 MB/s\u001b[0m eta \u001b[36m0:00:00\u001b[0m\n",
            "\u001b[?25hInstalling collected packages: openai\n",
            "  Attempting uninstall: openai\n",
            "    Found existing installation: openai 1.42.0\n",
            "    Uninstalling openai-1.42.0:\n",
            "      Successfully uninstalled openai-1.42.0\n",
            "Successfully installed openai-0.28.0\n"
          ]
        },
        {
          "output_type": "display_data",
          "data": {
            "application/vnd.colab-display-data+json": {
              "pip_warning": {
                "packages": [
                  "openai"
                ]
              },
              "id": "4732f0f3600e4631a8a3172bb50485e6"
            }
          },
          "metadata": {}
        }
      ]
    },
    {
      "cell_type": "code",
      "source": [
        "pip install cohere"
      ],
      "metadata": {
        "colab": {
          "base_uri": "https://localhost:8080/"
        },
        "id": "MwzhM8SWdRYw",
        "outputId": "e8c782c1-92b9-4b92-a317-7f000a044c40"
      },
      "execution_count": null,
      "outputs": [
        {
          "output_type": "stream",
          "name": "stdout",
          "text": [
            "Collecting cohere\n",
            "  Downloading cohere-5.8.1-py3-none-any.whl.metadata (3.4 kB)\n",
            "Collecting boto3<2.0.0,>=1.34.0 (from cohere)\n",
            "  Downloading boto3-1.35.6-py3-none-any.whl.metadata (6.6 kB)\n",
            "Collecting fastavro<2.0.0,>=1.9.4 (from cohere)\n",
            "  Downloading fastavro-1.9.5-cp310-cp310-manylinux_2_17_x86_64.manylinux2014_x86_64.whl.metadata (5.5 kB)\n",
            "Requirement already satisfied: httpx>=0.21.2 in /usr/local/lib/python3.10/dist-packages (from cohere) (0.27.0)\n",
            "Collecting httpx-sse==0.4.0 (from cohere)\n",
            "  Downloading httpx_sse-0.4.0-py3-none-any.whl.metadata (9.0 kB)\n",
            "Collecting parameterized<0.10.0,>=0.9.0 (from cohere)\n",
            "  Downloading parameterized-0.9.0-py2.py3-none-any.whl.metadata (18 kB)\n",
            "Requirement already satisfied: pydantic>=1.9.2 in /usr/local/lib/python3.10/dist-packages (from cohere) (2.8.2)\n",
            "Requirement already satisfied: pydantic-core<3.0.0,>=2.18.2 in /usr/local/lib/python3.10/dist-packages (from cohere) (2.20.1)\n",
            "Requirement already satisfied: requests<3.0.0,>=2.0.0 in /usr/local/lib/python3.10/dist-packages (from cohere) (2.32.3)\n",
            "Requirement already satisfied: tokenizers<1,>=0.15 in /usr/local/lib/python3.10/dist-packages (from cohere) (0.19.1)\n",
            "Collecting types-requests<3.0.0,>=2.0.0 (from cohere)\n",
            "  Downloading types_requests-2.32.0.20240712-py3-none-any.whl.metadata (1.9 kB)\n",
            "Requirement already satisfied: typing_extensions>=4.0.0 in /usr/local/lib/python3.10/dist-packages (from cohere) (4.12.2)\n",
            "Collecting botocore<1.36.0,>=1.35.6 (from boto3<2.0.0,>=1.34.0->cohere)\n",
            "  Downloading botocore-1.35.6-py3-none-any.whl.metadata (5.7 kB)\n",
            "Collecting jmespath<2.0.0,>=0.7.1 (from boto3<2.0.0,>=1.34.0->cohere)\n",
            "  Downloading jmespath-1.0.1-py3-none-any.whl.metadata (7.6 kB)\n",
            "Collecting s3transfer<0.11.0,>=0.10.0 (from boto3<2.0.0,>=1.34.0->cohere)\n",
            "  Downloading s3transfer-0.10.2-py3-none-any.whl.metadata (1.7 kB)\n",
            "Requirement already satisfied: anyio in /usr/local/lib/python3.10/dist-packages (from httpx>=0.21.2->cohere) (3.7.1)\n",
            "Requirement already satisfied: certifi in /usr/local/lib/python3.10/dist-packages (from httpx>=0.21.2->cohere) (2024.7.4)\n",
            "Requirement already satisfied: httpcore==1.* in /usr/local/lib/python3.10/dist-packages (from httpx>=0.21.2->cohere) (1.0.5)\n",
            "Requirement already satisfied: idna in /usr/local/lib/python3.10/dist-packages (from httpx>=0.21.2->cohere) (3.7)\n",
            "Requirement already satisfied: sniffio in /usr/local/lib/python3.10/dist-packages (from httpx>=0.21.2->cohere) (1.3.1)\n",
            "Requirement already satisfied: h11<0.15,>=0.13 in /usr/local/lib/python3.10/dist-packages (from httpcore==1.*->httpx>=0.21.2->cohere) (0.14.0)\n",
            "Requirement already satisfied: annotated-types>=0.4.0 in /usr/local/lib/python3.10/dist-packages (from pydantic>=1.9.2->cohere) (0.7.0)\n",
            "Requirement already satisfied: charset-normalizer<4,>=2 in /usr/local/lib/python3.10/dist-packages (from requests<3.0.0,>=2.0.0->cohere) (3.3.2)\n",
            "Requirement already satisfied: urllib3<3,>=1.21.1 in /usr/local/lib/python3.10/dist-packages (from requests<3.0.0,>=2.0.0->cohere) (2.0.7)\n",
            "Requirement already satisfied: huggingface-hub<1.0,>=0.16.4 in /usr/local/lib/python3.10/dist-packages (from tokenizers<1,>=0.15->cohere) (0.23.5)\n",
            "Requirement already satisfied: python-dateutil<3.0.0,>=2.1 in /usr/local/lib/python3.10/dist-packages (from botocore<1.36.0,>=1.35.6->boto3<2.0.0,>=1.34.0->cohere) (2.8.2)\n",
            "Requirement already satisfied: filelock in /usr/local/lib/python3.10/dist-packages (from huggingface-hub<1.0,>=0.16.4->tokenizers<1,>=0.15->cohere) (3.15.4)\n",
            "Requirement already satisfied: fsspec>=2023.5.0 in /usr/local/lib/python3.10/dist-packages (from huggingface-hub<1.0,>=0.16.4->tokenizers<1,>=0.15->cohere) (2024.6.1)\n",
            "Requirement already satisfied: packaging>=20.9 in /usr/local/lib/python3.10/dist-packages (from huggingface-hub<1.0,>=0.16.4->tokenizers<1,>=0.15->cohere) (24.1)\n",
            "Requirement already satisfied: pyyaml>=5.1 in /usr/local/lib/python3.10/dist-packages (from huggingface-hub<1.0,>=0.16.4->tokenizers<1,>=0.15->cohere) (6.0.2)\n",
            "Requirement already satisfied: tqdm>=4.42.1 in /usr/local/lib/python3.10/dist-packages (from huggingface-hub<1.0,>=0.16.4->tokenizers<1,>=0.15->cohere) (4.66.5)\n",
            "Requirement already satisfied: exceptiongroup in /usr/local/lib/python3.10/dist-packages (from anyio->httpx>=0.21.2->cohere) (1.2.2)\n",
            "Requirement already satisfied: six>=1.5 in /usr/local/lib/python3.10/dist-packages (from python-dateutil<3.0.0,>=2.1->botocore<1.36.0,>=1.35.6->boto3<2.0.0,>=1.34.0->cohere) (1.16.0)\n",
            "Downloading cohere-5.8.1-py3-none-any.whl (207 kB)\n",
            "\u001b[2K   \u001b[90m━━━━━━━━━━━━━━━━━━━━━━━━━━━━━━━━━━━━━━━━\u001b[0m \u001b[32m207.8/207.8 kB\u001b[0m \u001b[31m11.0 MB/s\u001b[0m eta \u001b[36m0:00:00\u001b[0m\n",
            "\u001b[?25hDownloading httpx_sse-0.4.0-py3-none-any.whl (7.8 kB)\n",
            "Downloading boto3-1.35.6-py3-none-any.whl (139 kB)\n",
            "\u001b[2K   \u001b[90m━━━━━━━━━━━━━━━━━━━━━━━━━━━━━━━━━━━━━━━━\u001b[0m \u001b[32m139.1/139.1 kB\u001b[0m \u001b[31m8.5 MB/s\u001b[0m eta \u001b[36m0:00:00\u001b[0m\n",
            "\u001b[?25hDownloading fastavro-1.9.5-cp310-cp310-manylinux_2_17_x86_64.manylinux2014_x86_64.whl (3.1 MB)\n",
            "\u001b[2K   \u001b[90m━━━━━━━━━━━━━━━━━━━━━━━━━━━━━━━━━━━━━━━━\u001b[0m \u001b[32m3.1/3.1 MB\u001b[0m \u001b[31m51.8 MB/s\u001b[0m eta \u001b[36m0:00:00\u001b[0m\n",
            "\u001b[?25hDownloading parameterized-0.9.0-py2.py3-none-any.whl (20 kB)\n",
            "Downloading types_requests-2.32.0.20240712-py3-none-any.whl (15 kB)\n",
            "Downloading botocore-1.35.6-py3-none-any.whl (12.5 MB)\n",
            "\u001b[2K   \u001b[90m━━━━━━━━━━━━━━━━━━━━━━━━━━━━━━━━━━━━━━━━\u001b[0m \u001b[32m12.5/12.5 MB\u001b[0m \u001b[31m42.7 MB/s\u001b[0m eta \u001b[36m0:00:00\u001b[0m\n",
            "\u001b[?25hDownloading jmespath-1.0.1-py3-none-any.whl (20 kB)\n",
            "Downloading s3transfer-0.10.2-py3-none-any.whl (82 kB)\n",
            "\u001b[2K   \u001b[90m━━━━━━━━━━━━━━━━━━━━━━━━━━━━━━━━━━━━━━━━\u001b[0m \u001b[32m82.7/82.7 kB\u001b[0m \u001b[31m5.8 MB/s\u001b[0m eta \u001b[36m0:00:00\u001b[0m\n",
            "\u001b[?25hInstalling collected packages: types-requests, parameterized, jmespath, httpx-sse, fastavro, botocore, s3transfer, boto3, cohere\n",
            "Successfully installed boto3-1.35.6 botocore-1.35.6 cohere-5.8.1 fastavro-1.9.5 httpx-sse-0.4.0 jmespath-1.0.1 parameterized-0.9.0 s3transfer-0.10.2 types-requests-2.32.0.20240712\n"
          ]
        }
      ]
    },
    {
      "cell_type": "code",
      "source": [
        "import openai\n",
        "import cohere\n",
        "\n",
        "# Set your GPT API key here\n",
        "openai.api_key = \"sk-RWK4Bt75LGo2pIdI3Nne0Al7JI6rky9WVRDl5bcq52T3BlbkFJqUrncWB7_-mU3XR-vPQZHqvnu4DaI1n0gM5l6CT1IA\"\n",
        "\n",
        "def generate_feature_report(client_name, high_contrib_feature, least_contrib_feature):\n",
        "    prompt = f\"\"\"\n",
        "    Generate a report for {client_name}:\n",
        "    1. High Contributing Feature: {high_contrib_feature}\n",
        "    - Analysis: Why this feature contributes highly to the model's performance.\n",
        "    - Improvement Strategy: Ways to further enhance the impact of this feature.\n",
        "\n",
        "    2. Least Contributing Feature: {least_contrib_feature}\n",
        "    - Analysis: Why this feature has a low contribution to the model's performance.\n",
        "    - Improvement Strategy: How to address the inefficiency or whether to consider removing this feature.\n",
        "    \"\"\"\n",
        "\n",
        "    # Initialize the Cohere client\n",
        "    co = cohere.Client('Isi9ZkalXhCu0ck8masw8vsqn11lkqhVaMOEU7Bq')  # Replace with your Cohere API key\n",
        "\n",
        "    # Generate the report using the Cohere generate function\n",
        "    response = co.generate(\n",
        "        model='command-xlarge-nightly',  # Model choice depending on availability\n",
        "        prompt=prompt,\n",
        "        max_tokens=300  # Adjust based on the expected length of the report\n",
        "    )\n",
        "\n",
        "    # Extract and return the response\n",
        "    return response.generations[0].text.strip()\n",
        "\n",
        "def generate_full_report(clients_features):\n",
        "    report = \"### Analysis Report on Client Feature Contribution and Improvement Strategies\\n\\n\"\n",
        "    report += \"---\\n\\n\"\n",
        "\n",
        "    for client in clients_features:\n",
        "        client_name = client[\"name\"]\n",
        "        high_contrib_feature = client[\"high_contrib_feature\"]\n",
        "        least_contrib_feature = client[\"least_contrib_feature\"]\n",
        "\n",
        "        client_report = generate_feature_report(client_name, high_contrib_feature, least_contrib_feature)\n",
        "        report += f\"#### {client_name}\\n\"\n",
        "        report += client_report\n",
        "        report += \"\\n\\n---\\n\\n\"\n",
        "\n",
        "    return report\n",
        "\n",
        "# Example usage with dynamic client input\n",
        "def main():\n",
        "    n = 3  # Number of clients\n",
        "    clients_features = []\n",
        "    for i in range(n):\n",
        "        name = i  # Example client name, replace with actual names\n",
        "        high_contrib_feature = clients_features1[i]  # Example high contributing feature\n",
        "        least_contrib_feature = clients_features2[i]  # Example least contributing feature\n",
        "\n",
        "        clients_features.append({\n",
        "            \"name\": name,\n",
        "            \"high_contrib_feature\": high_contrib_feature,\n",
        "            \"least_contrib_feature\": least_contrib_feature\n",
        "        })\n",
        "\n",
        "    # Generate the full report\n",
        "    full_report = generate_full_report(clients_features)\n",
        "\n",
        "    # Save the report to a file\n",
        "    with open(\"client_feature_report.txt\", \"w\") as report_file:\n",
        "        report_file.write(full_report)\n",
        "\n",
        "    print(\"Report generated and saved to 'client_feature_report.txt'\")\n",
        "\n",
        "if __name__ == \"__main__\":\n",
        "    main()"
      ],
      "metadata": {
        "colab": {
          "base_uri": "https://localhost:8080/"
        },
        "id": "Y7BGeDGePT1t",
        "outputId": "1f9aad80-3343-481f-81a8-2bff550a2255"
      },
      "execution_count": null,
      "outputs": [
        {
          "output_type": "stream",
          "name": "stderr",
          "text": [
            "/usr/local/lib/python3.10/dist-packages/pydantic/_internal/_config.py:341: UserWarning: Valid config keys have changed in V2:\n",
            "* 'allow_population_by_field_name' has been renamed to 'populate_by_name'\n",
            "* 'smart_union' has been removed\n",
            "  warnings.warn(message, UserWarning)\n"
          ]
        },
        {
          "output_type": "stream",
          "name": "stdout",
          "text": [
            "Report generated and saved to 'client_feature_report.txt'\n"
          ]
        }
      ]
    },
    {
      "cell_type": "markdown",
      "source": [
        "auc score for fednam and feddnn"
      ],
      "metadata": {
        "id": "0TJpkg2Hr9XF"
      }
    },
    {
      "cell_type": "code",
      "source": [],
      "metadata": {
        "colab": {
          "base_uri": "https://localhost:8080/",
          "height": 382
        },
        "id": "HURoxy7hr88g",
        "outputId": "f3892535-507a-4303-ff10-c7e8edf837ec"
      },
      "execution_count": null,
      "outputs": [
        {
          "output_type": "error",
          "ename": "ValueError",
          "evalue": "Sparse ARFF datasets cannot be loaded with as_frame=True. Use as_frame=False or as_frame='auto' instead.",
          "traceback": [
            "\u001b[0;31m---------------------------------------------------------------------------\u001b[0m",
            "\u001b[0;31mValueError\u001b[0m                                Traceback (most recent call last)",
            "\u001b[0;32m<ipython-input-10-151f99eb75ca>\u001b[0m in \u001b[0;36m<cell line: 174>\u001b[0;34m()\u001b[0m\n\u001b[1;32m    172\u001b[0m \u001b[0;34m\u001b[0m\u001b[0m\n\u001b[1;32m    173\u001b[0m \u001b[0mn_clients\u001b[0m \u001b[0;34m=\u001b[0m \u001b[0;36m3\u001b[0m\u001b[0;34m\u001b[0m\u001b[0;34m\u001b[0m\u001b[0m\n\u001b[0;32m--> 174\u001b[0;31m \u001b[0mdata\u001b[0m \u001b[0;34m=\u001b[0m \u001b[0mfetch_openml\u001b[0m\u001b[0;34m(\u001b[0m\u001b[0mname\u001b[0m\u001b[0;34m=\u001b[0m\u001b[0;34m'heart'\u001b[0m\u001b[0;34m,\u001b[0m \u001b[0mversion\u001b[0m\u001b[0;34m=\u001b[0m\u001b[0;36m1\u001b[0m\u001b[0;34m,\u001b[0m \u001b[0mas_frame\u001b[0m\u001b[0;34m=\u001b[0m\u001b[0;32mTrue\u001b[0m\u001b[0;34m,\u001b[0m \u001b[0mparser\u001b[0m\u001b[0;34m=\u001b[0m\u001b[0;34m'liac-arff'\u001b[0m\u001b[0;34m)\u001b[0m\u001b[0;34m\u001b[0m\u001b[0;34m\u001b[0m\u001b[0m\n\u001b[0m\u001b[1;32m    175\u001b[0m \u001b[0mdf\u001b[0m \u001b[0;34m=\u001b[0m \u001b[0mpd\u001b[0m\u001b[0;34m.\u001b[0m\u001b[0mDataFrame\u001b[0m\u001b[0;34m(\u001b[0m\u001b[0mdata\u001b[0m\u001b[0;34m.\u001b[0m\u001b[0mdata\u001b[0m\u001b[0;34m,\u001b[0m \u001b[0mcolumns\u001b[0m\u001b[0;34m=\u001b[0m\u001b[0mdata\u001b[0m\u001b[0;34m.\u001b[0m\u001b[0mfeature_names\u001b[0m\u001b[0;34m)\u001b[0m\u001b[0;34m\u001b[0m\u001b[0;34m\u001b[0m\u001b[0m\n\u001b[1;32m    176\u001b[0m \u001b[0mdf\u001b[0m\u001b[0;34m[\u001b[0m\u001b[0;34m'target'\u001b[0m\u001b[0;34m]\u001b[0m \u001b[0;34m=\u001b[0m \u001b[0mdata\u001b[0m\u001b[0;34m.\u001b[0m\u001b[0mtarget\u001b[0m\u001b[0;34m.\u001b[0m\u001b[0mastype\u001b[0m\u001b[0;34m(\u001b[0m\u001b[0mint\u001b[0m\u001b[0;34m)\u001b[0m\u001b[0;34m\u001b[0m\u001b[0;34m\u001b[0m\u001b[0m\n",
            "\u001b[0;32m/usr/local/lib/python3.10/dist-packages/sklearn/utils/_param_validation.py\u001b[0m in \u001b[0;36mwrapper\u001b[0;34m(*args, **kwargs)\u001b[0m\n\u001b[1;32m    212\u001b[0m                     )\n\u001b[1;32m    213\u001b[0m                 ):\n\u001b[0;32m--> 214\u001b[0;31m                     \u001b[0;32mreturn\u001b[0m \u001b[0mfunc\u001b[0m\u001b[0;34m(\u001b[0m\u001b[0;34m*\u001b[0m\u001b[0margs\u001b[0m\u001b[0;34m,\u001b[0m \u001b[0;34m**\u001b[0m\u001b[0mkwargs\u001b[0m\u001b[0;34m)\u001b[0m\u001b[0;34m\u001b[0m\u001b[0;34m\u001b[0m\u001b[0m\n\u001b[0m\u001b[1;32m    215\u001b[0m             \u001b[0;32mexcept\u001b[0m \u001b[0mInvalidParameterError\u001b[0m \u001b[0;32mas\u001b[0m \u001b[0me\u001b[0m\u001b[0;34m:\u001b[0m\u001b[0;34m\u001b[0m\u001b[0;34m\u001b[0m\u001b[0m\n\u001b[1;32m    216\u001b[0m                 \u001b[0;31m# When the function is just a wrapper around an estimator, we allow\u001b[0m\u001b[0;34m\u001b[0m\u001b[0;34m\u001b[0m\u001b[0m\n",
            "\u001b[0;32m/usr/local/lib/python3.10/dist-packages/sklearn/datasets/_openml.py\u001b[0m in \u001b[0;36mfetch_openml\u001b[0;34m(name, version, data_id, data_home, target_column, cache, return_X_y, as_frame, n_retries, delay, parser, read_csv_kwargs)\u001b[0m\n\u001b[1;32m   1072\u001b[0m     \u001b[0;32mif\u001b[0m \u001b[0mreturn_sparse\u001b[0m\u001b[0;34m:\u001b[0m\u001b[0;34m\u001b[0m\u001b[0;34m\u001b[0m\u001b[0m\n\u001b[1;32m   1073\u001b[0m         \u001b[0;32mif\u001b[0m \u001b[0mas_frame\u001b[0m\u001b[0;34m:\u001b[0m\u001b[0;34m\u001b[0m\u001b[0;34m\u001b[0m\u001b[0m\n\u001b[0;32m-> 1074\u001b[0;31m             raise ValueError(\n\u001b[0m\u001b[1;32m   1075\u001b[0m                 \u001b[0;34m\"Sparse ARFF datasets cannot be loaded with as_frame=True. \"\u001b[0m\u001b[0;34m\u001b[0m\u001b[0;34m\u001b[0m\u001b[0m\n\u001b[1;32m   1076\u001b[0m                 \u001b[0;34m\"Use as_frame=False or as_frame='auto' instead.\"\u001b[0m\u001b[0;34m\u001b[0m\u001b[0;34m\u001b[0m\u001b[0m\n",
            "\u001b[0;31mValueError\u001b[0m: Sparse ARFF datasets cannot be loaded with as_frame=True. Use as_frame=False or as_frame='auto' instead."
          ]
        }
      ]
    },
    {
      "cell_type": "code",
      "source": [],
      "metadata": {
        "id": "y-auENNFr855"
      },
      "execution_count": null,
      "outputs": []
    },
    {
      "cell_type": "code",
      "source": [],
      "metadata": {
        "id": "2zVtal4gr83T"
      },
      "execution_count": null,
      "outputs": []
    },
    {
      "cell_type": "code",
      "source": [],
      "metadata": {
        "id": "vrirdoSLr80_"
      },
      "execution_count": null,
      "outputs": []
    },
    {
      "cell_type": "markdown",
      "source": [
        "#9 mnist dataset"
      ],
      "metadata": {
        "id": "0mglkcJUVCg0"
      }
    },
    {
      "cell_type": "code",
      "source": [
        "pip install captum torchvision matplotlib\n"
      ],
      "metadata": {
        "colab": {
          "base_uri": "https://localhost:8080/"
        },
        "id": "UjrWKtBJVk5n",
        "outputId": "029f18e4-63b2-4b92-f07c-139bc9db36e9"
      },
      "execution_count": null,
      "outputs": [
        {
          "output_type": "stream",
          "name": "stdout",
          "text": [
            "Collecting captum\n",
            "  Downloading captum-0.7.0-py3-none-any.whl.metadata (26 kB)\n",
            "Requirement already satisfied: torchvision in /usr/local/lib/python3.10/dist-packages (0.19.0+cu121)\n",
            "Requirement already satisfied: matplotlib in /usr/local/lib/python3.10/dist-packages (3.7.1)\n",
            "Requirement already satisfied: numpy in /usr/local/lib/python3.10/dist-packages (from captum) (1.26.4)\n",
            "Requirement already satisfied: torch>=1.6 in /usr/local/lib/python3.10/dist-packages (from captum) (2.4.0+cu121)\n",
            "Requirement already satisfied: tqdm in /usr/local/lib/python3.10/dist-packages (from captum) (4.66.5)\n",
            "Requirement already satisfied: pillow!=8.3.*,>=5.3.0 in /usr/local/lib/python3.10/dist-packages (from torchvision) (9.4.0)\n",
            "Requirement already satisfied: filelock in /usr/local/lib/python3.10/dist-packages (from torch>=1.6->captum) (3.15.4)\n",
            "Requirement already satisfied: typing-extensions>=4.8.0 in /usr/local/lib/python3.10/dist-packages (from torch>=1.6->captum) (4.12.2)\n",
            "Requirement already satisfied: sympy in /usr/local/lib/python3.10/dist-packages (from torch>=1.6->captum) (1.13.2)\n",
            "Requirement already satisfied: networkx in /usr/local/lib/python3.10/dist-packages (from torch>=1.6->captum) (3.3)\n",
            "Requirement already satisfied: jinja2 in /usr/local/lib/python3.10/dist-packages (from torch>=1.6->captum) (3.1.4)\n",
            "Requirement already satisfied: fsspec in /usr/local/lib/python3.10/dist-packages (from torch>=1.6->captum) (2024.6.1)\n",
            "Requirement already satisfied: contourpy>=1.0.1 in /usr/local/lib/python3.10/dist-packages (from matplotlib) (1.2.1)\n",
            "Requirement already satisfied: cycler>=0.10 in /usr/local/lib/python3.10/dist-packages (from matplotlib) (0.12.1)\n",
            "Requirement already satisfied: fonttools>=4.22.0 in /usr/local/lib/python3.10/dist-packages (from matplotlib) (4.53.1)\n",
            "Requirement already satisfied: kiwisolver>=1.0.1 in /usr/local/lib/python3.10/dist-packages (from matplotlib) (1.4.5)\n",
            "Requirement already satisfied: packaging>=20.0 in /usr/local/lib/python3.10/dist-packages (from matplotlib) (24.1)\n",
            "Requirement already satisfied: pyparsing>=2.3.1 in /usr/local/lib/python3.10/dist-packages (from matplotlib) (3.1.2)\n",
            "Requirement already satisfied: python-dateutil>=2.7 in /usr/local/lib/python3.10/dist-packages (from matplotlib) (2.8.2)\n",
            "Requirement already satisfied: six>=1.5 in /usr/local/lib/python3.10/dist-packages (from python-dateutil>=2.7->matplotlib) (1.16.0)\n",
            "Requirement already satisfied: MarkupSafe>=2.0 in /usr/local/lib/python3.10/dist-packages (from jinja2->torch>=1.6->captum) (2.1.5)\n",
            "Requirement already satisfied: mpmath<1.4,>=1.1.0 in /usr/local/lib/python3.10/dist-packages (from sympy->torch>=1.6->captum) (1.3.0)\n",
            "Downloading captum-0.7.0-py3-none-any.whl (1.3 MB)\n",
            "\u001b[2K   \u001b[90m━━━━━━━━━━━━━━━━━━━━━━━━━━━━━━━━━━━━━━━━\u001b[0m \u001b[32m1.3/1.3 MB\u001b[0m \u001b[31m15.5 MB/s\u001b[0m eta \u001b[36m0:00:00\u001b[0m\n",
            "\u001b[?25hInstalling collected packages: captum\n",
            "Successfully installed captum-0.7.0\n"
          ]
        }
      ]
    },
    {
      "cell_type": "markdown",
      "source": [
        "mnist captum\n",
        "\n",
        "---\n",
        "\n"
      ],
      "metadata": {
        "id": "TEUcJSyVXv0P"
      }
    },
    {
      "cell_type": "code",
      "source": [],
      "metadata": {
        "colab": {
          "base_uri": "https://localhost:8080/",
          "height": 108
        },
        "id": "_ABZDmVuTt_M",
        "outputId": "1b406eed-e7a1-4ac0-ab60-d16405d2030f"
      },
      "execution_count": null,
      "outputs": [
        {
          "output_type": "error",
          "ename": "SyntaxError",
          "evalue": "invalid syntax (<ipython-input-8-34db70b62860>, line 35)",
          "traceback": [
            "\u001b[0;36m  File \u001b[0;32m\"<ipython-input-8-34db70b62860>\"\u001b[0;36m, line \u001b[0;32m35\u001b[0m\n\u001b[0;31m    return F.log_softmax(x, dim=1)import torch\u001b[0m\n\u001b[0m                                  ^\u001b[0m\n\u001b[0;31mSyntaxError\u001b[0m\u001b[0;31m:\u001b[0m invalid syntax\n"
          ]
        }
      ]
    },
    {
      "cell_type": "markdown",
      "source": [
        "uci heart disease captum"
      ],
      "metadata": {
        "id": "kbRzCAbqYy5t"
      }
    },
    {
      "cell_type": "code",
      "source": [
        "import torch\n",
        "import torch.nn as nn\n",
        "import torch.nn.functional as F\n",
        "from torch.utils.data import DataLoader, TensorDataset\n",
        "from captum.attr import IntegratedGradients\n",
        "import pandas as pd\n",
        "import numpy as np\n",
        "import matplotlib.pyplot as plt\n",
        "from sklearn.model_selection import train_test_split\n",
        "from sklearn.preprocessing import StandardScaler\n",
        "\n",
        "# Step 1: Load and preprocess the UCI Heart Disease dataset\n",
        "url = \"https://archive.ics.uci.edu/ml/machine-learning-databases/heart-disease/processed.cleveland.data\"\n",
        "column_names = ['age', 'sex', 'cp', 'trestbps', 'chol', 'fbs', 'restecg', 'thalach', 'exang', 'oldpeak', 'slope', 'ca', 'thal', 'target']\n",
        "\n",
        "# Replace missing values with NaN and load the dataset\n",
        "df = pd.read_csv(url, header=None, names=column_names, na_values=\"?\")\n",
        "df = df.dropna()\n",
        "\n",
        "# Separate features and target\n",
        "X = df.drop('target', axis=1)\n",
        "y = df['target'].apply(lambda x: 1 if x > 0 else 0)  # Binary classification: 1 for disease, 0 for no disease\n",
        "\n",
        "# Split into train and test sets\n",
        "X_train, X_test, y_train, y_test = train_test_split(X, y, test_size=0.2, random_state=42)\n",
        "\n",
        "# Normalize the features\n",
        "scaler = StandardScaler()\n",
        "X_train = scaler.fit_transform(X_train)\n",
        "X_test = scaler.transform(X_test)\n",
        "\n",
        "# Convert to PyTorch tensors\n",
        "X_train_tensor = torch.tensor(X_train, dtype=torch.float32)\n",
        "X_test_tensor = torch.tensor(X_test, dtype=torch.float32)\n",
        "y_train_tensor = torch.tensor(y_train.values, dtype=torch.long)\n",
        "y_test_tensor = torch.tensor(y_test.values, dtype=torch.long)\n",
        "\n",
        "# Create DataLoader for testing data\n",
        "test_dataset = TensorDataset(X_test_tensor, y_test_tensor)\n",
        "test_loader = DataLoader(test_dataset, batch_size=1, shuffle=False)\n",
        "\n",
        "# Step 2: Define a simple neural network model\n",
        "class HeartDiseaseModel(nn.Module):\n",
        "    def __init__(self):\n",
        "        super(HeartDiseaseModel, self).__init__()\n",
        "        self.fc1 = nn.Linear(13, 10)\n",
        "        self.fc2 = nn.Linear(10, 5)\n",
        "        self.fc3 = nn.Linear(5, 2)  # Output layer for binary classification\n",
        "\n",
        "    def forward(self, x):\n",
        "        x = F.relu(self.fc1(x))\n",
        "        x = F.relu(self.fc2(x))\n",
        "        x = self.fc3(x)\n",
        "        return F.log_softmax(x, dim=1)\n",
        "\n",
        "model = HeartDiseaseModel()\n",
        "model.eval()\n",
        "\n",
        "# Step 3: Train the model (if needed) or load a pre-trained model\n",
        "# Assuming you have trained the model, load it\n",
        "# model.load_state_dict(torch.load('heart_disease_model.pth'))\n",
        "\n",
        "# Step 4: Initialize Integrated Gradients and compute attributions for each feature across all test samples\n",
        "ig = IntegratedGradients(model)\n",
        "\n",
        "# Initialize a tensor to hold the attributions for all features\n",
        "all_attributions = torch.zeros((len(X_test_tensor), X_test_tensor.shape[1]))\n",
        "\n",
        "# Iterate over the test dataset and compute attributions\n",
        "for i, (input_data, target_label) in enumerate(test_loader):\n",
        "    baseline = torch.zeros_like(input_data)\n",
        "    attributions, delta = ig.attribute(input_data, baseline, target=target_label, return_convergence_delta=True)\n",
        "    all_attributions[i] = attributions.squeeze()\n",
        "\n",
        "# Step 5: Calculate the average attribution for each feature across the test set\n",
        "mean_attributions = all_attributions.mean(dim=0).cpu().numpy()\n",
        "\n",
        "# Step 6: Visualize the feature interpretability values (mean attributions)\n",
        "def visualize_mean_attr(attr, feature_names):\n",
        "    plt.figure(figsize=(10, 5))\n",
        "    plt.barh(feature_names, attr, color='blue')\n",
        "    plt.xlabel('Average Attribution')\n",
        "    plt.title('Average Feature Attributions (Integrated Gradients)')\n",
        "    plt.show()\n",
        "\n",
        "# Define the feature names\n",
        "feature_names = X.columns\n",
        "\n",
        "visualize_mean_attr(mean_attributions, feature_names)\n"
      ],
      "metadata": {
        "colab": {
          "base_uri": "https://localhost:8080/",
          "height": 487
        },
        "id": "dy8n5Z-aYyk3",
        "outputId": "7ef8ae7b-bc55-4320-c8b0-6d5cb0c1f5cc"
      },
      "execution_count": null,
      "outputs": [
        {
          "output_type": "display_data",
          "data": {
            "text/plain": [
              "<Figure size 1000x500 with 1 Axes>"
            ],
            "image/png": "[encoded data removed]"
          },
          "metadata": {}
        }
      ]
    },
    {
      "cell_type": "markdown",
      "source": [
        "Using Meta's captum"
      ],
      "metadata": {
        "id": "2cqYjYPD8c_t"
      }
    },
    {
      "cell_type": "markdown",
      "source": [],
      "metadata": {
        "id": "-YdjfG6cYyby"
      }
    },
    {
      "cell_type": "code",
      "source": [
        "import torch\n",
        "import torch.nn as nn\n",
        "import torch.nn.functional as F\n",
        "from torch.utils.data import DataLoader, TensorDataset\n",
        "from captum.attr import IntegratedGradients\n",
        "import pandas as pd\n",
        "import numpy as np\n",
        "from sklearn.model_selection import train_test_split\n",
        "from sklearn.preprocessing import StandardScaler\n",
        "\n",
        "# Step 1: Load and preprocess the UCI Heart Disease dataset\n",
        "url = \"https://archive.ics.uci.edu/ml/machine-learning-databases/heart-disease/processed.cleveland.data\"\n",
        "column_names = ['age', 'sex', 'cp', 'trestbps', 'chol', 'fbs', 'restecg', 'thalach', 'exang', 'oldpeak', 'slope', 'ca', 'thal', 'target']\n",
        "\n",
        "# Replace missing values with NaN and load the dataset\n",
        "df = pd.read_csv(url, header=None, names=column_names, na_values=\"?\")\n",
        "df = df.dropna()\n",
        "\n",
        "# Separate features and target\n",
        "X = df.drop('target', axis=1)\n",
        "y = df['target'].apply(lambda x: 1 if x > 0 else 0)  # Binary classification: 1 for disease, 0 for no disease\n",
        "\n",
        "# Split into train and test sets\n",
        "X_train, X_test, y_train, y_test = train_test_split(X, y, test_size=0.2, random_state=42)\n",
        "\n",
        "# Normalize the features\n",
        "scaler = StandardScaler()\n",
        "X_train = scaler.fit_transform(X_train)\n",
        "X_test = scaler.transform(X_test)\n",
        "\n",
        "# Convert to PyTorch tensors\n",
        "X_train_tensor = torch.tensor(X_train, dtype=torch.float32)\n",
        "X_test_tensor = torch.tensor(X_test, dtype=torch.float32)\n",
        "y_train_tensor = torch.tensor(y_train.values, dtype=torch.long)\n",
        "y_test_tensor = torch.tensor(y_test.values, dtype=torch.long)\n",
        "\n",
        "# Create DataLoader for testing data\n",
        "test_dataset = TensorDataset(X_test_tensor, y_test_tensor)\n",
        "test_loader = DataLoader(test_dataset, batch_size=1, shuffle=False)\n",
        "\n",
        "# Step 2: Define a simple neural network model\n",
        "class HeartDiseaseModel(nn.Module):\n",
        "    def __init__(self):\n",
        "        super(HeartDiseaseModel, self).__init__()\n",
        "        self.fc1 = nn.Linear(13, 10)\n",
        "        self.fc2 = nn.Linear(10, 5)\n",
        "        self.fc3 = nn.Linear(5, 2)  # Output layer for binary classification\n",
        "\n",
        "    def forward(self, x):\n",
        "        x = F.relu(self.fc1(x))\n",
        "        x = F.relu(self.fc2(x))\n",
        "        x = self.fc3(x)\n",
        "        return F.log_softmax(x, dim=1)\n",
        "\n",
        "model = HeartDiseaseModel()\n",
        "model.eval()\n",
        "\n",
        "# Step 3: Train the model (if needed) or load a pre-trained model\n",
        "# Assuming you have trained the model, load it\n",
        "# model.load_state_dict(torch.load('heart_disease_model.pth'))\n",
        "\n",
        "# Step 4: Initialize Integrated Gradients and compute attributions for each feature across all test samples\n",
        "ig = IntegratedGradients(model)\n",
        "\n",
        "# Initialize a tensor to hold the attributions for all features\n",
        "all_attributions = torch.zeros((len(X_test_tensor), X_test_tensor.shape[1]))\n",
        "\n",
        "# Iterate over the test dataset and compute attributions\n",
        "for i, (input_data, target_label) in enumerate(test_loader):\n",
        "    baseline = torch.zeros_like(input_data)\n",
        "    attributions, delta = ig.attribute(input_data, baseline, target=target_label, return_convergence_delta=True)\n",
        "    all_attributions[i] = attributions.squeeze()\n",
        "\n",
        "# Step 5: Calculate the average attribution for each feature across the test set\n",
        "mean_attributions = all_attributions.mean(dim=0).cpu().numpy()\n",
        "\n",
        "# Step 6: Create a table with feature names and their corresponding average attributions\n",
        "feature_names = X.columns\n",
        "attributions_df = pd.DataFrame({\n",
        "    'Feature': feature_names,\n",
        "    'Average Attribution': mean_attributions\n",
        "})\n",
        "\n",
        "# Display the table\n",
        "print(attributions_df)\n"
      ],
      "metadata": {
        "colab": {
          "base_uri": "https://localhost:8080/"
        },
        "id": "N_du0Z_OZdhT",
        "outputId": "eb747d21-c514-4b1a-f27c-6ef664be5a61"
      },
      "execution_count": null,
      "outputs": [
        {
          "output_type": "stream",
          "name": "stdout",
          "text": [
            "     Feature  Average Attribution\n",
            "0        age            -0.003673\n",
            "1        sex            -0.000434\n",
            "2         cp            -0.004202\n",
            "3   trestbps            -0.002589\n",
            "4       chol            -0.000223\n",
            "5        fbs            -0.001079\n",
            "6    restecg            -0.001987\n",
            "7    thalach            -0.004438\n",
            "8      exang             0.003228\n",
            "9    oldpeak            -0.010129\n",
            "10     slope            -0.004840\n",
            "11        ca             0.001944\n",
            "12      thal            -0.008827\n"
          ]
        }
      ]
    },
    {
      "cell_type": "code",
      "source": [
        "import torch\n",
        "import torch.nn as nn\n",
        "import torch.nn.functional as F\n",
        "from torch.utils.data import DataLoader\n",
        "from torchvision import datasets, transforms\n",
        "from captum.attr import IntegratedGradients\n",
        "import matplotlib.pyplot as plt\n",
        "\n",
        "# Step 1: Load and preprocess the CIFAR-10 dataset\n",
        "transform = transforms.Compose([\n",
        "    transforms.ToTensor(),\n",
        "    transforms.Normalize((0.5, 0.5, 0.5), (0.5, 0.5, 0.5))\n",
        "])\n",
        "\n",
        "cifar10_train = datasets.CIFAR10(root='./data', train=True, download=True, transform=transform)\n",
        "cifar10_test = datasets.CIFAR10(root='./data', train=False, download=True, transform=transform)\n",
        "\n",
        "test_loader = DataLoader(cifar10_test, batch_size=1, shuffle=False)\n",
        "\n",
        "# Step 2: Define a simple CNN model for CIFAR-10\n",
        "class CIFAR10Model(nn.Module):\n",
        "    def __init__(self):\n",
        "        super(CIFAR10Model, self).__init__()\n",
        "        self.conv1 = nn.Conv2d(3, 16, kernel_size=5)\n",
        "        self.conv2 = nn.Conv2d(16, 32, kernel_size=5)\n",
        "        self.fc1 = nn.Linear(32 * 5 * 5, 120)\n",
        "        self.fc2 = nn.Linear(120, 84)\n",
        "        self.fc3 = nn.Linear(84, 10)  # Output layer for 10 classes\n",
        "\n",
        "    def forward(self, x):\n",
        "        x = F.relu(F.max_pool2d(self.conv1(x), 2))\n",
        "        x = F.relu(F.max_pool2d(self.conv2(x), 2))\n",
        "        x = x.view(-1, 32 * 5 * 5)\n",
        "        x = F.relu(self.fc1(x))\n",
        "        x = F.relu(self.fc2(x))\n",
        "        x = self.fc3(x)\n",
        "        return F.log_softmax(x, dim=1)\n",
        "\n",
        "model = CIFAR10Model()\n",
        "model.eval()\n",
        "\n",
        "# Step 3: Train the model (if needed) or load a pre-trained model\n",
        "# For simplicity, assume we train the model here\n",
        "optimizer = torch.optim.Adam(model.parameters(), lr=0.001)\n",
        "criterion = nn.CrossEntropyLoss()\n",
        "\n",
        "# Training loop (skipped for brevity, assuming you load a trained model)\n",
        "# Uncomment and modify this part if you need to train the model\n",
        "# for epoch in range(10):\n",
        "#     model.train()\n",
        "#     for data, target in DataLoader(cifar10_train, batch_size=64, shuffle=True):\n",
        "#         optimizer.zero_grad()\n",
        "#         output = model(data)\n",
        "#         loss = criterion(output, target)\n",
        "#         loss.backward()\n",
        "#         optimizer.step()\n",
        "\n",
        "# Step 4: Select a data point with index 9 and compute attributions\n",
        "input_data, target_label = next(iter(test_loader))\n",
        "input_data = input_data[0].unsqueeze(0)  # Select the 9th data point\n",
        "target_label = target_label[0].unsqueeze(0)\n",
        "\n",
        "# Baseline (zero tensor)\n",
        "baseline = torch.zeros_like(input_data)\n",
        "\n",
        "# Initialize Integrated Gradients\n",
        "ig = IntegratedGradients(model)\n",
        "\n",
        "# Compute attributions\n",
        "attributions, delta = ig.attribute(input_data, baseline, target=target_label, return_convergence_delta=True)\n",
        "\n",
        "# Convert attributions to numpy for visualization\n",
        "attributions = attributions.squeeze().cpu().detach().numpy()\n",
        "\n",
        "# Step 5: Visualize the attributions\n",
        "def visualize_attr(attr):\n",
        "    plt.figure(figsize=(10, 5))\n",
        "    plt.imshow(attr.transpose(1, 2, 0))  # Transpose to match image dimensions\n",
        "    plt.title('Integrated Gradients Attributions for CIFAR-10 Data Point 9')\n",
        "    plt.show()\n",
        "\n",
        "visualize_attr(attributions)\n"
      ],
      "metadata": {
        "colab": {
          "base_uri": "https://localhost:8080/",
          "height": 557
        },
        "id": "PV3URIbRle2b",
        "outputId": "629c3550-6846-4b41-ae88-cbcc577a5149"
      },
      "execution_count": null,
      "outputs": [
        {
          "output_type": "stream",
          "name": "stdout",
          "text": [
            "Downloading https://www.cs.toronto.edu/~kriz/cifar-10-python.tar.gz to ./data/cifar-10-python.tar.gz\n"
          ]
        },
        {
          "output_type": "stream",
          "name": "stderr",
          "text": [
            "100%|██████████| 170498071/170498071 [00:02<00:00, 76147807.99it/s]\n"
          ]
        },
        {
          "output_type": "stream",
          "name": "stdout",
          "text": [
            "Extracting ./data/cifar-10-python.tar.gz to ./data\n",
            "Files already downloaded and verified\n"
          ]
        },
        {
          "output_type": "stream",
          "name": "stderr",
          "text": [
            "WARNING:matplotlib.image:Clipping input data to the valid range for imshow with RGB data ([0..1] for floats or [0..255] for integers).\n"
          ]
        },
        {
          "output_type": "display_data",
          "data": {
            "text/plain": [
              "<Figure size 1000x500 with 1 Axes>"
            ],
            "image/png": "[encoded data removed]"
          },
          "metadata": {}
        }
      ]
    }
  ]
}